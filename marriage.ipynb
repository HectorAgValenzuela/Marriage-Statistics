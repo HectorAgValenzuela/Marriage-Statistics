{
 "cells": [
  {
   "cell_type": "code",
   "execution_count": 11,
   "metadata": {},
   "outputs": [],
   "source": [
    "import pandas as pd\n",
    "import pylab \n",
    "import scipy.stats as stats\n",
    "import numpy as np\n",
    "url = 'https://raw.githubusercontent.com/datasets/population-reference-bureau/master/data/us/marriage-age-men/data/us-marriage-age-men.csv'\n",
    "data = pd.read_csv(url)"
   ]
  },
  {
   "cell_type": "code",
   "execution_count": 2,
   "metadata": {},
   "outputs": [
    {
     "name": "stdout",
     "output_type": "stream",
     "text": [
      "34     26.7\n",
      "100    26.7\n",
      "45     29.9\n",
      "103    29.6\n",
      "76     28.9\n",
      "Name: Data, dtype: float64\n"
     ]
    }
   ],
   "source": [
    "sample_df = data['Data'].sample(n=100)\n",
    "print(sample_df.head(5))"
   ]
  },
  {
   "cell_type": "code",
   "execution_count": 3,
   "metadata": {},
   "outputs": [
    {
     "data": {
      "image/png": "[encoded data removed]",
      "text/plain": [
       "<Figure size 432x288 with 1 Axes>"
      ]
     },
     "metadata": {
      "needs_background": "light"
     },
     "output_type": "display_data"
    }
   ],
   "source": [
    "stats.probplot(sample_df, dist=\"norm\", plot=pylab)\n",
    "pylab.show()"
   ]
  },
  {
   "cell_type": "markdown",
   "metadata": {},
   "source": [
    "Intervalo de confianza bilateral de un 95%"
   ]
  },
  {
   "cell_type": "code",
   "execution_count": 8,
   "metadata": {},
   "outputs": [
    {
     "name": "stdout",
     "output_type": "stream",
     "text": [
      "n: 100\n",
      "Mean: 28.414999999999996\n",
      "Std: 1.3047214184637188\n",
      "Z: 1.96\n"
     ]
    }
   ],
   "source": [
    "n = 100\n",
    "print(\"n: \" + str(n))\n",
    "marrMean = sample_df.mean()\n",
    "print(\"Mean: \" + str(marrMean))\n",
    "marrStd = sample_df.std()\n",
    "print(\"Std: \" + str(marrStd))\n",
    "z = 1.96\n",
    "print(\"Z: \" + str(z))"
   ]
  },
  {
   "cell_type": "code",
   "execution_count": 12,
   "metadata": {},
   "outputs": [
    {
     "name": "stdout",
     "output_type": "stream",
     "text": [
      "Confidence interval: (28.159274601981107, 28.670725398018885)\n"
     ]
    }
   ],
   "source": [
    "inf = marrMean - z * (marrStd/np.sqrt(n))\n",
    "sup = marrMean + z * (marrStd/np.sqrt(n))\n",
    "\n",
    "print (\"Confidence interval: (\" + str(inf) + \", \" + str(sup) + \")\")\n"
   ]
  }
 ],
 "metadata": {
  "kernelspec": {
   "display_name": "Python 3.9.12 ('base')",
   "language": "python",
   "name": "python3"
  },
  "language_info": {
   "codemirror_mode": {
    "name": "ipython",
    "version": 3
   },
   "file_extension": ".py",
   "mimetype": "text/x-python",
   "name": "python",
   "nbconvert_exporter": "python",
   "pygments_lexer": "ipython3",
   "version": "3.9.12"
  },
  "orig_nbformat": 4,
  "vscode": {
   "interpreter": {
    "hash": "de05e5e3c27431831eadf2606bf6056aa1403792529971bde251db324a63ef42"
   }
  }
 },
 "nbformat": 4,
 "nbformat_minor": 2
}
